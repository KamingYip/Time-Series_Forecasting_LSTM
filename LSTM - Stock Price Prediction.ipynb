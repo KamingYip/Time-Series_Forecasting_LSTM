{
 "cells": [
  {
   "cell_type": "markdown",
   "metadata": {},
   "source": [
    "# <div align = \"center\">LSTM RNN Model - Stock Price Prediction</div>\n",
    "### <div align = \"center\"> Author: <a href = \"https://www.linkedin.com/in/kamingyip\">Kaming Yip</a>&emsp;&emsp;Date July 30, 2021</div>"
   ]
  },
  {
   "cell_type": "markdown",
   "metadata": {},
   "source": [
    "In this practice, we will apply Long Short-Term Memory (LSTM) network in a time series prediction problem - to predict stock price. The data we use is downloaded directly through <a href = \"https://finance.yahoo.com\">Yahoo Finance</a> and the time frame is from 2016-01-01 to 2021-07-15.\n",
    "\n",
    "First, let's install the necessary modules."
   ]
  },
  {
   "cell_type": "code",
   "execution_count": 1,
   "metadata": {},
   "outputs": [
    {
     "name": "stderr",
     "output_type": "stream",
     "text": [
      "Using TensorFlow backend.\n"
     ]
    }
   ],
   "source": [
    "# pip install yfinance\n",
    "import yfinance as yf\n",
    "import pandas as pd\n",
    "import numpy as np\n",
    "import matplotlib.pyplot as plt\n",
    "from keras.models import Sequential\n",
    "from keras.layers import Dense, LSTM, Dropout\n",
    "from sklearn.preprocessing import MinMaxScaler\n",
    "import warnings\n",
    "warnings.filterwarnings(\"ignore\")"
   ]
  },
  {
   "cell_type": "markdown",
   "metadata": {},
   "source": [
    "To download the historical price data from the website, we designate the stock name and the time frame we would like to investigate."
   ]
  },
  {
   "cell_type": "code",
   "execution_count": 2,
   "metadata": {},
   "outputs": [],
   "source": [
    "def get_stock(ticker, start_date, end_date):\n",
    "    \"\"\"\n",
    "    download the historical data from yahoo web\n",
    "    & manipulate the data to create desirable columns\n",
    "    \"\"\"\n",
    "    try:\n",
    "        df = yf.download(ticker, start = start_date, end = end_date)\n",
    "        df[\"Date\"] = df.index\n",
    "        df[\"Date\"] = pd.to_datetime(df[\"Date\"])\n",
    "        df = df[[\"Date\", \"Close\"]]\n",
    "        df.index = range(len(df))\n",
    "        return df\n",
    "    except Exception as error:\n",
    "        print(error)\n",
    "        return None"
   ]
  },
  {
   "cell_type": "code",
   "execution_count": 3,
   "metadata": {},
   "outputs": [
    {
     "name": "stdout",
     "output_type": "stream",
     "text": [
      "[*********************100%***********************]  1 of 1 completed\n",
      "        Date      Close\n",
      "0 2016-01-04  27.600000\n",
      "1 2016-01-05  26.620001\n",
      "2 2016-01-06  25.910000\n",
      "3 2016-01-07  25.270000\n",
      "4 2016-01-08  25.049999\n",
      "5 2016-01-11  24.309999\n",
      "6 2016-01-12  23.639999\n",
      "7 2016-01-13  22.070000\n",
      "8 2016-01-14  21.590000\n",
      "9 2016-01-15  21.309999\n",
      "\n",
      "read 1392 lines of data for ticker: YELP\n"
     ]
    }
   ],
   "source": [
    "try:\n",
    "    ticker = \"YELP\"\n",
    "    df = get_stock(ticker, start_date = \"2016-01-01\", end_date = \"2021-07-15\")\n",
    "    print(df.head(10),\n",
    "          \"read {0} lines of data for ticker: {1}\".format(len(df), ticker),\n",
    "          sep = \"\\n\\n\")\n",
    "except Exception as e:\n",
    "    print(e)\n",
    "    print(\"failed to get Yahoo stock data for ticker: {0}\".format(ticker),\n",
    "          end = \"\\n\\n\" + \"-\" * 50 + \"\\n\\n\")"
   ]
  },
  {
   "cell_type": "markdown",
   "metadata": {},
   "source": [
    "As shown, we assign the `look_back` as the number of previous time steps to use as input variables to predict the next time period - in this case defaulted to 1. The training data will contain around 67% of the records in the entire dataset and the remaining records will be taken as testing data (plus the last `look_back` recrods in the training data)."
   ]
  },
  {
   "cell_type": "code",
   "execution_count": 4,
   "metadata": {},
   "outputs": [
    {
     "name": "stdout",
     "output_type": "stream",
     "text": [
      "Training Data: (932, 1)\n",
      "Testing Data: (520, 1)\n"
     ]
    }
   ],
   "source": [
    "look_back = 60\n",
    "train_size = int(len(df) * 0.67)\n",
    "train_data = df.iloc[ : train_size, 1:2].values\n",
    "\n",
    "# Start with the last look_back number of price in the training data\n",
    "# to predict the first price in test data\n",
    "test_data = df.iloc[train_size - look_back : , 1:2].values\n",
    "\n",
    "print(\"Training Data: {0}\".format(train_data.shape),\n",
    "      \"Testing Data: {0}\".format(test_data.shape), sep = \"\\n\")"
   ]
  },
  {
   "cell_type": "markdown",
   "metadata": {},
   "source": [
    "It's worth noting that LSTMs are sensitive to the scale of the input data. It can be a good practice to rescale the data to the range of \\[0, 1\\], also called <b>normalizing</b>. We can easily normalize the dataset using the `MinMaxScaler` preprocessing class from the scikit-learn library.\n",
    "\n",
    "For each dataset (i.e. training and testing), we will split the univariate sequence data into multiple samples, where each sample has `look_back` number of time steps and the output is a single time step. To be more specific, we reshape the data into the following format \\[ #samples, #time steps, output dimension \\]"
   ]
  },
  {
   "cell_type": "code",
   "execution_count": 5,
   "metadata": {},
   "outputs": [],
   "source": [
    "scaler = MinMaxScaler(feature_range = (0, 1))\n",
    "train_data_scaled = scaler.fit_transform(train_data)\n",
    "test_data_scaled = scaler.transform(test_data)\n",
    "\n",
    "X_train, y_train = [], []\n",
    "for i in range(look_back, train_size):\n",
    "    X_train.append(train_data_scaled[i - look_back : i, 0])\n",
    "    y_train.append(train_data_scaled[i, 0])\n",
    "X_train, y_train = np.array(X_train), np.array(y_train)\n",
    "X_train = X_train.reshape((X_train.shape[0], X_train.shape[1], 1))\n",
    "\n",
    "X_test, y_test = [], []\n",
    "for i in range(look_back, look_back + len(df) - train_size):\n",
    "    X_test.append(test_data_scaled[i - look_back : i, 0])\n",
    "    y_test.append(test_data_scaled[i, 0])\n",
    "X_test, y_test = np.array(X_test), np.array(y_test)\n",
    "X_test = X_test.reshape((X_test.shape[0], X_test.shape[1], 1))"
   ]
  },
  {
   "cell_type": "markdown",
   "metadata": {},
   "source": [
    "Now, we will build the LSTM model with 4 hidden layers, where each layer contains 50 blocks or neurons and the output layer makes a single value prediction to predict the normalized stock price for the following day. The network is compiled using the Adam stochastic gradient descent optimizer and the mean squared error (or MSE) loss function. We will train the network for 100 epochs with a batch size of 30. Notice that we add some dropout regularisation in each hidden layers to prevent the network from overfitting. Dropout modifies the network itself by randomly dropping neurons from the network during training in each iteration. When we drop different sets of neurons, it's equivalent to train different neural networks. The different networks will overfit in different ways, so the net effect of dropout will be to reduce overfitting.\n",
    "\n",
    "Once the model is defined, we can fit it on the training data."
   ]
  },
  {
   "cell_type": "code",
   "execution_count": 6,
   "metadata": {},
   "outputs": [
    {
     "name": "stdout",
     "output_type": "stream",
     "text": [
      "Epoch 1/100\n",
      "872/872 [==============================] - 9s 10ms/step - loss: 0.0457\n",
      "Epoch 2/100\n",
      "872/872 [==============================] - 5s 6ms/step - loss: 0.0125\n",
      "Epoch 3/100\n",
      "872/872 [==============================] - 5s 6ms/step - loss: 0.0109\n",
      "Epoch 4/100\n",
      "872/872 [==============================] - 5s 6ms/step - loss: 0.0117\n",
      "Epoch 5/100\n",
      "872/872 [==============================] - 5s 5ms/step - loss: 0.0102\n",
      "Epoch 6/100\n",
      "872/872 [==============================] - 5s 6ms/step - loss: 0.0101\n",
      "Epoch 7/100\n",
      "872/872 [==============================] - 5s 5ms/step - loss: 0.0101\n",
      "Epoch 8/100\n",
      "872/872 [==============================] - 5s 5ms/step - loss: 0.0098\n",
      "Epoch 9/100\n",
      "872/872 [==============================] - 5s 6ms/step - loss: 0.0098\n",
      "Epoch 10/100\n",
      "872/872 [==============================] - 5s 6ms/step - loss: 0.0101\n",
      "Epoch 11/100\n",
      "872/872 [==============================] - 5s 5ms/step - loss: 0.0088\n",
      "Epoch 12/100\n",
      "872/872 [==============================] - 5s 6ms/step - loss: 0.0089\n",
      "Epoch 13/100\n",
      "872/872 [==============================] - 5s 5ms/step - loss: 0.0095\n",
      "Epoch 14/100\n",
      "872/872 [==============================] - 5s 6ms/step - loss: 0.0087\n",
      "Epoch 15/100\n",
      "872/872 [==============================] - 5s 6ms/step - loss: 0.0066\n",
      "Epoch 16/100\n",
      "872/872 [==============================] - 5s 6ms/step - loss: 0.0073\n",
      "Epoch 17/100\n",
      "872/872 [==============================] - 5s 5ms/step - loss: 0.0083\n",
      "Epoch 18/100\n",
      "872/872 [==============================] - 5s 5ms/step - loss: 0.0070\n",
      "Epoch 19/100\n",
      "872/872 [==============================] - 5s 5ms/step - loss: 0.0071\n",
      "Epoch 20/100\n",
      "872/872 [==============================] - 5s 5ms/step - loss: 0.0076\n",
      "Epoch 21/100\n",
      "872/872 [==============================] - 5s 5ms/step - loss: 0.0067\n",
      "Epoch 22/100\n",
      "872/872 [==============================] - 7s 8ms/step - loss: 0.0058\n",
      "Epoch 23/100\n",
      "872/872 [==============================] - 5s 5ms/step - loss: 0.0071\n",
      "Epoch 24/100\n",
      "872/872 [==============================] - 5s 6ms/step - loss: 0.0063\n",
      "Epoch 25/100\n",
      "872/872 [==============================] - 5s 5ms/step - loss: 0.0054\n",
      "Epoch 26/100\n",
      "872/872 [==============================] - 5s 5ms/step - loss: 0.0055\n",
      "Epoch 27/100\n",
      "872/872 [==============================] - 5s 5ms/step - loss: 0.0056\n",
      "Epoch 28/100\n",
      "872/872 [==============================] - 5s 5ms/step - loss: 0.0056\n",
      "Epoch 29/100\n",
      "872/872 [==============================] - 4s 5ms/step - loss: 0.0059\n",
      "Epoch 30/100\n",
      "872/872 [==============================] - 5s 5ms/step - loss: 0.0051\n",
      "Epoch 31/100\n",
      "872/872 [==============================] - 5s 5ms/step - loss: 0.0053\n",
      "Epoch 32/100\n",
      "872/872 [==============================] - 5s 5ms/step - loss: 0.0051\n",
      "Epoch 33/100\n",
      "872/872 [==============================] - 5s 5ms/step - loss: 0.0048\n",
      "Epoch 34/100\n",
      "872/872 [==============================] - 5s 5ms/step - loss: 0.0052\n",
      "Epoch 35/100\n",
      "872/872 [==============================] - 5s 5ms/step - loss: 0.0051\n",
      "Epoch 36/100\n",
      "872/872 [==============================] - 5s 5ms/step - loss: 0.0053\n",
      "Epoch 37/100\n",
      "872/872 [==============================] - 5s 5ms/step - loss: 0.0055\n",
      "Epoch 38/100\n",
      "872/872 [==============================] - 5s 5ms/step - loss: 0.0042\n",
      "Epoch 39/100\n",
      "872/872 [==============================] - 5s 5ms/step - loss: 0.0047\n",
      "Epoch 40/100\n",
      "872/872 [==============================] - 5s 5ms/step - loss: 0.0047\n",
      "Epoch 41/100\n",
      "872/872 [==============================] - 5s 5ms/step - loss: 0.0045\n",
      "Epoch 42/100\n",
      "872/872 [==============================] - 5s 5ms/step - loss: 0.0042\n",
      "Epoch 43/100\n",
      "872/872 [==============================] - 5s 5ms/step - loss: 0.0041\n",
      "Epoch 44/100\n",
      "872/872 [==============================] - 5s 5ms/step - loss: 0.0054\n",
      "Epoch 45/100\n",
      "872/872 [==============================] - 5s 5ms/step - loss: 0.0039\n",
      "Epoch 46/100\n",
      "872/872 [==============================] - 5s 5ms/step - loss: 0.0040\n",
      "Epoch 47/100\n",
      "872/872 [==============================] - 5s 6ms/step - loss: 0.0038\n",
      "Epoch 48/100\n",
      "872/872 [==============================] - 5s 5ms/step - loss: 0.0037\n",
      "Epoch 49/100\n",
      "872/872 [==============================] - 5s 5ms/step - loss: 0.0036\n",
      "Epoch 50/100\n",
      "872/872 [==============================] - 5s 5ms/step - loss: 0.0039\n",
      "Epoch 51/100\n",
      "872/872 [==============================] - 5s 5ms/step - loss: 0.0040\n",
      "Epoch 52/100\n",
      "872/872 [==============================] - 5s 5ms/step - loss: 0.0037\n",
      "Epoch 53/100\n",
      "872/872 [==============================] - 5s 5ms/step - loss: 0.0034\n",
      "Epoch 54/100\n",
      "872/872 [==============================] - 4s 5ms/step - loss: 0.0034\n",
      "Epoch 55/100\n",
      "872/872 [==============================] - 5s 5ms/step - loss: 0.0037\n",
      "Epoch 56/100\n",
      "872/872 [==============================] - 5s 5ms/step - loss: 0.0035\n",
      "Epoch 57/100\n",
      "872/872 [==============================] - 5s 5ms/step - loss: 0.0037\n",
      "Epoch 58/100\n",
      "872/872 [==============================] - 4s 5ms/step - loss: 0.0031\n",
      "Epoch 59/100\n",
      "872/872 [==============================] - 4s 5ms/step - loss: 0.0034\n",
      "Epoch 60/100\n",
      "872/872 [==============================] - 5s 5ms/step - loss: 0.0039\n",
      "Epoch 61/100\n",
      "872/872 [==============================] - 5s 5ms/step - loss: 0.0031\n",
      "Epoch 62/100\n",
      "872/872 [==============================] - 5s 5ms/step - loss: 0.0033\n",
      "Epoch 63/100\n",
      "872/872 [==============================] - 5s 6ms/step - loss: 0.0031\n",
      "Epoch 64/100\n",
      "872/872 [==============================] - 5s 6ms/step - loss: 0.0031\n",
      "Epoch 65/100\n",
      "872/872 [==============================] - 5s 5ms/step - loss: 0.0033\n",
      "Epoch 66/100\n",
      "872/872 [==============================] - 5s 5ms/step - loss: 0.0033\n",
      "Epoch 67/100\n",
      "872/872 [==============================] - 5s 5ms/step - loss: 0.0031\n",
      "Epoch 68/100\n",
      "872/872 [==============================] - 5s 5ms/step - loss: 0.0034\n",
      "Epoch 69/100\n",
      "872/872 [==============================] - 5s 5ms/step - loss: 0.0030\n",
      "Epoch 70/100\n",
      "872/872 [==============================] - 5s 5ms/step - loss: 0.0031\n",
      "Epoch 71/100\n",
      "872/872 [==============================] - 5s 5ms/step - loss: 0.0031\n",
      "Epoch 72/100\n",
      "872/872 [==============================] - 5s 5ms/step - loss: 0.0050\n",
      "Epoch 73/100\n",
      "872/872 [==============================] - 5s 5ms/step - loss: 0.0032\n",
      "Epoch 74/100\n",
      "872/872 [==============================] - 5s 5ms/step - loss: 0.0029\n",
      "Epoch 75/100\n",
      "872/872 [==============================] - 5s 5ms/step - loss: 0.0029\n",
      "Epoch 76/100\n",
      "872/872 [==============================] - 5s 5ms/step - loss: 0.0028\n",
      "Epoch 77/100\n",
      "872/872 [==============================] - 5s 5ms/step - loss: 0.0028\n",
      "Epoch 78/100\n",
      "872/872 [==============================] - 4s 5ms/step - loss: 0.0027\n",
      "Epoch 79/100\n",
      "872/872 [==============================] - 5s 5ms/step - loss: 0.0030\n",
      "Epoch 80/100\n",
      "872/872 [==============================] - 5s 5ms/step - loss: 0.0027\n",
      "Epoch 81/100\n",
      "872/872 [==============================] - 5s 5ms/step - loss: 0.0026\n",
      "Epoch 82/100\n",
      "872/872 [==============================] - 5s 5ms/step - loss: 0.0028\n",
      "Epoch 83/100\n",
      "872/872 [==============================] - 5s 5ms/step - loss: 0.0027\n",
      "Epoch 84/100\n",
      "872/872 [==============================] - 4s 5ms/step - loss: 0.0034\n",
      "Epoch 85/100\n",
      "872/872 [==============================] - 5s 6ms/step - loss: 0.0026\n",
      "Epoch 86/100\n",
      "872/872 [==============================] - 5s 5ms/step - loss: 0.0026\n",
      "Epoch 87/100\n",
      "872/872 [==============================] - 9s 10ms/step - loss: 0.0025\n",
      "Epoch 88/100\n",
      "872/872 [==============================] - 6s 7ms/step - loss: 0.0022\n",
      "Epoch 89/100\n",
      "872/872 [==============================] - 5s 6ms/step - loss: 0.0025\n",
      "Epoch 90/100\n",
      "872/872 [==============================] - 5s 6ms/step - loss: 0.0026\n",
      "Epoch 91/100\n",
      "872/872 [==============================] - 5s 5ms/step - loss: 0.0024\n",
      "Epoch 92/100\n",
      "872/872 [==============================] - 5s 5ms/step - loss: 0.0024\n",
      "Epoch 93/100\n",
      "872/872 [==============================] - 5s 6ms/step - loss: 0.0027\n",
      "Epoch 94/100\n",
      "872/872 [==============================] - 5s 6ms/step - loss: 0.0023\n",
      "Epoch 95/100\n",
      "872/872 [==============================] - 5s 5ms/step - loss: 0.0023\n",
      "Epoch 96/100\n",
      "872/872 [==============================] - 5s 5ms/step - loss: 0.0023\n",
      "Epoch 97/100\n",
      "872/872 [==============================] - 5s 6ms/step - loss: 0.0023\n",
      "Epoch 98/100\n",
      "872/872 [==============================] - 5s 5ms/step - loss: 0.0024\n",
      "Epoch 99/100\n"
     ]
    },
    {
     "name": "stdout",
     "output_type": "stream",
     "text": [
      "872/872 [==============================] - 5s 5ms/step - loss: 0.0022\n",
      "Epoch 100/100\n",
      "872/872 [==============================] - 5s 5ms/step - loss: 0.0023\n",
      "Model: \"sequential_1\"\n",
      "_________________________________________________________________\n",
      "Layer (type)                 Output Shape              Param #   \n",
      "=================================================================\n",
      "lstm_1 (LSTM)                (None, 60, 50)            10400     \n",
      "_________________________________________________________________\n",
      "dropout_1 (Dropout)          (None, 60, 50)            0         \n",
      "_________________________________________________________________\n",
      "lstm_2 (LSTM)                (None, 60, 50)            20200     \n",
      "_________________________________________________________________\n",
      "dropout_2 (Dropout)          (None, 60, 50)            0         \n",
      "_________________________________________________________________\n",
      "lstm_3 (LSTM)                (None, 60, 50)            20200     \n",
      "_________________________________________________________________\n",
      "dropout_3 (Dropout)          (None, 60, 50)            0         \n",
      "_________________________________________________________________\n",
      "lstm_4 (LSTM)                (None, 50)                20200     \n",
      "_________________________________________________________________\n",
      "dropout_4 (Dropout)          (None, 50)                0         \n",
      "_________________________________________________________________\n",
      "dense_1 (Dense)              (None, 1)                 51        \n",
      "=================================================================\n",
      "Total params: 71,051\n",
      "Trainable params: 71,051\n",
      "Non-trainable params: 0\n",
      "_________________________________________________________________\n"
     ]
    }
   ],
   "source": [
    "model = Sequential()\n",
    "\n",
    "# Adding the first LSTM layer and some Dropout regularisation\n",
    "model.add(LSTM(units = 50, return_sequences = True,\n",
    "               input_shape = (X_train.shape[1], 1)))\n",
    "model.add(Dropout(0.2))\n",
    "\n",
    "# Adding a second LSTM layer and some Dropout regularisation\n",
    "model.add(LSTM(units = 50, return_sequences = True))\n",
    "model.add(Dropout(0.2))\n",
    "\n",
    "# Adding a third LSTM layer and some Dropout regularisation\n",
    "model.add(LSTM(units = 50, return_sequences = True))\n",
    "model.add(Dropout(0.2))\n",
    "\n",
    "# Adding a fourth LSTM layer and some Dropout regularisation\n",
    "model.add(LSTM(units = 50))\n",
    "model.add(Dropout(0.2))\n",
    "\n",
    "# Adding the output layer\n",
    "model.add(Dense(units = 1))\n",
    "\n",
    "# Compiling the RNN\n",
    "model.compile(optimizer = \"adam\", loss = \"mse\")\n",
    "\n",
    "# Fitting the RNN to the training data\n",
    "model.fit(X_train, y_train, epochs = 100, batch_size = 30)\n",
    "\n",
    "model.summary()"
   ]
  },
  {
   "cell_type": "markdown",
   "metadata": {},
   "source": [
    "Respectively, we will apply the LSTM model to predict the stock price in training and testing data and visualize the results."
   ]
  },
  {
   "cell_type": "code",
   "execution_count": 7,
   "metadata": {},
   "outputs": [],
   "source": [
    "predicted_train = model.predict(X_train)\n",
    "predicted_train = scaler.inverse_transform(predicted_train)\n",
    "predicted_test = model.predict(X_test)\n",
    "predicted_test = scaler.inverse_transform(predicted_test)\n",
    "\n",
    "train_predict_plot = pd.DataFrame({\n",
    "        \"Date\": df[\"Date\"],\n",
    "        \"Close\": [np.nan] * len(df)\n",
    "})\n",
    "train_predict_plot.loc[look_back : look_back + len(predicted_train) - 1, \"Close\"] = predicted_train\n",
    "\n",
    "test_predict_plot = pd.DataFrame({\n",
    "        \"Date\": df[\"Date\"],\n",
    "        \"Close\": [np.nan] * len(df)\n",
    "})\n",
    "test_predict_plot.loc[train_size : train_size + len(predicted_test), \"Close\"] = predicted_test"
   ]
  },
  {
   "cell_type": "code",
   "execution_count": 8,
   "metadata": {},
   "outputs": [
    {
     "data": {
      "image/png": "[encoded data removed]",
      "text/plain": [
       "<Figure size 1152x432 with 1 Axes>"
      ]
     },
     "metadata": {
      "needs_background": "light"
     },
     "output_type": "display_data"
    }
   ],
   "source": [
    "plt.figure(figsize = (16, 6))\n",
    "plt.plot(df[\"Date\"], df[\"Close\"], color = \"blue\",\n",
    "         label = \"Real {0} Stock Price\".format(ticker))\n",
    "plt.plot(train_predict_plot[\"Date\"], train_predict_plot[\"Close\"], color = \"green\",\n",
    "         label = \"Predicted {0} Stock Price (Training Data)\".format(ticker))\n",
    "plt.plot(test_predict_plot[\"Date\"], test_predict_plot[\"Close\"], color = \"red\",\n",
    "         label = \"Predicted {0} Stock Price (Testing Data)\".format(ticker))\n",
    "plt.xticks(df[\"Date\"][0::50], rotation = \"vertical\")\n",
    "plt.title(\"{0} Stock Price Prediction\".format(ticker))\n",
    "plt.xlabel(\"Date\")\n",
    "plt.ylabel(\"{0} Stock Price\".format(ticker))\n",
    "plt.legend()\n",
    "plt.show()"
   ]
  }
 ],
 "metadata": {
  "kernelspec": {
   "display_name": "Python 3",
   "language": "python",
   "name": "python3"
  },
  "language_info": {
   "codemirror_mode": {
    "name": "ipython",
    "version": 3
   },
   "file_extension": ".py",
   "mimetype": "text/x-python",
   "name": "python",
   "nbconvert_exporter": "python",
   "pygments_lexer": "ipython3",
   "version": "3.7.3"
  }
 },
 "nbformat": 4,
 "nbformat_minor": 2
}
